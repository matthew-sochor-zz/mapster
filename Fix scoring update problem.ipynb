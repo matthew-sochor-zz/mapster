{
 "cells": [
  {
   "cell_type": "code",
   "execution_count": 1,
   "metadata": {
    "collapsed": true
   },
   "outputs": [],
   "source": [
    "%matplotlib inline\n",
    "%load_ext autoreload\n",
    "%autoreload 1"
   ]
  },
  {
   "cell_type": "code",
   "execution_count": 5,
   "metadata": {
    "collapsed": false
   },
   "outputs": [],
   "source": [
    "%aimport mapster\n"
   ]
  },
  {
   "cell_type": "code",
   "execution_count": 6,
   "metadata": {
    "collapsed": true
   },
   "outputs": [],
   "source": [
    "dorcester = (42.314393, -71.073737)\n",
    "dormap = mapster.map_yelp(dorcester,['pizza','bbq'])"
   ]
  },
  {
   "cell_type": "code",
   "execution_count": 20,
   "metadata": {
    "collapsed": false
   },
   "outputs": [],
   "source": [
    "dorscore = mapster.score_yelp_map(dormap)"
   ]
  },
  {
   "cell_type": "code",
   "execution_count": 21,
   "metadata": {
    "collapsed": false
   },
   "outputs": [
    {
     "name": "stdout",
     "output_type": "stream",
     "text": [
      "       1269025.0:2642175.0  1269025.0:2642200.0  1269025.0:2642225.0  \\\n",
      "bbq              44.037823            32.102326            37.117609   \n",
      "pizza            48.787942            53.046939            68.946759   \n",
      "\n",
      "       1269025.0:2642250.0  1269025.0:2642275.0  1269050.0:2642175.0  \\\n",
      "bbq              32.693542            21.618224            55.407891   \n",
      "pizza            76.032222            71.799123            49.641888   \n",
      "\n",
      "       1269050.0:2642200.0  1269050.0:2642225.0  1269050.0:2642250.0  \\\n",
      "bbq              38.009621            44.748131             43.92337   \n",
      "pizza            60.693426            66.989352             73.88963   \n",
      "\n",
      "       1269050.0:2642275.0         ...           1269100.0:2642175.0  \\\n",
      "bbq              26.703562         ...                     57.808133   \n",
      "pizza            73.601481         ...                     42.737130   \n",
      "\n",
      "       1269100.0:2642200.0  1269100.0:2642225.0  1269100.0:2642250.0  \\\n",
      "bbq              48.624033            61.864712            57.720422   \n",
      "pizza            46.280926            56.159907            57.912500   \n",
      "\n",
      "       1269100.0:2642275.0  1269125.0:2642175.0  1269125.0:2642200.0  \\\n",
      "bbq              48.260802            87.271111            43.784691   \n",
      "pizza            58.708148            42.109444            40.672037   \n",
      "\n",
      "       1269125.0:2642225.0  1269125.0:2642250.0  1269125.0:2642275.0  \n",
      "bbq              58.490226            59.167438            51.895576  \n",
      "pizza            45.996019            69.601852            51.789630  \n",
      "\n",
      "[2 rows x 25 columns]\n"
     ]
    }
   ],
   "source": [
    "print dorscore"
   ]
  },
  {
   "cell_type": "markdown",
   "metadata": {},
   "source": [
    "## add a search to dormap\n"
   ]
  },
  {
   "cell_type": "code",
   "execution_count": 23,
   "metadata": {
    "collapsed": true
   },
   "outputs": [],
   "source": [
    "mapster.add_search_to_yelp_map(dormap,['grocery'])"
   ]
  },
  {
   "cell_type": "markdown",
   "metadata": {},
   "source": [
    "## update the score map"
   ]
  },
  {
   "cell_type": "code",
   "execution_count": 25,
   "metadata": {
    "collapsed": true
   },
   "outputs": [],
   "source": [
    "mapster.update_score(dormap,dorscore)"
   ]
  },
  {
   "cell_type": "code",
   "execution_count": 26,
   "metadata": {
    "collapsed": false
   },
   "outputs": [
    {
     "name": "stdout",
     "output_type": "stream",
     "text": [
      "       1269025.0:2642175.0  1269025.0:2642200.0  1269025.0:2642225.0  \\\n",
      "bbq                    NaN                  NaN                  NaN   \n",
      "pizza                  NaN                  NaN                  NaN   \n",
      "\n",
      "       1269025.0:2642250.0  1269025.0:2642275.0  1269050.0:2642175.0  \\\n",
      "bbq                    NaN                  NaN                  NaN   \n",
      "pizza                  NaN                  NaN                  NaN   \n",
      "\n",
      "       1269050.0:2642200.0  1269050.0:2642225.0  1269050.0:2642250.0  \\\n",
      "bbq                    NaN                  NaN                  NaN   \n",
      "pizza                  NaN                  NaN                  NaN   \n",
      "\n",
      "       1269050.0:2642275.0         ...           1269100.0:2642175.0  \\\n",
      "bbq                    NaN         ...                           NaN   \n",
      "pizza                  NaN         ...                           NaN   \n",
      "\n",
      "       1269100.0:2642200.0  1269100.0:2642225.0  1269100.0:2642250.0  \\\n",
      "bbq                    NaN                  NaN                  NaN   \n",
      "pizza                  NaN                  NaN                  NaN   \n",
      "\n",
      "       1269100.0:2642275.0  1269125.0:2642175.0  1269125.0:2642200.0  \\\n",
      "bbq                    NaN                  NaN                  NaN   \n",
      "pizza                  NaN                  NaN                  NaN   \n",
      "\n",
      "       1269125.0:2642225.0  1269125.0:2642250.0  1269125.0:2642275.0  \n",
      "bbq                    NaN                  NaN                  NaN  \n",
      "pizza                  NaN                  NaN                  NaN  \n",
      "\n",
      "[2 rows x 25 columns]\n"
     ]
    }
   ],
   "source": [
    "print dorscore"
   ]
  },
  {
   "cell_type": "markdown",
   "metadata": {},
   "source": [
    "###that fails for some reason, \n",
    "\n",
    "It should work when expanding the map.  I will rescore,\n",
    "I will expand the map north, and then update the score.  "
   ]
  },
  {
   "cell_type": "code",
   "execution_count": 27,
   "metadata": {
    "collapsed": false
   },
   "outputs": [
    {
     "name": "stdout",
     "output_type": "stream",
     "text": [
      "         1269025.0:2642175.0  1269025.0:2642200.0  1269025.0:2642225.0  \\\n",
      "bbq                44.037823            32.102326            37.117609   \n",
      "grocery            71.484444            85.753772            83.463915   \n",
      "pizza              48.787942            53.046939            68.946759   \n",
      "\n",
      "         1269025.0:2642250.0  1269025.0:2642275.0  1269050.0:2642175.0  \\\n",
      "bbq                32.693542            21.618224            55.407891   \n",
      "grocery            77.996523            78.926138            93.441512   \n",
      "pizza              76.032222            71.799123            49.641888   \n",
      "\n",
      "         1269050.0:2642200.0  1269050.0:2642225.0  1269050.0:2642250.0  \\\n",
      "bbq                38.009621            44.748131            43.923370   \n",
      "grocery            89.986274            90.053333            92.287286   \n",
      "pizza              60.693426            66.989352            73.889630   \n",
      "\n",
      "         1269050.0:2642275.0         ...           1269100.0:2642175.0  \\\n",
      "bbq                26.703562         ...                     57.808133   \n",
      "grocery            86.844535         ...                     85.060952   \n",
      "pizza              73.601481         ...                     42.737130   \n",
      "\n",
      "         1269100.0:2642200.0  1269100.0:2642225.0  1269100.0:2642250.0  \\\n",
      "bbq                48.624033            61.864712            57.720422   \n",
      "grocery           111.306455           108.078246           111.073621   \n",
      "pizza              46.280926            56.159907            57.912500   \n",
      "\n",
      "         1269100.0:2642275.0  1269125.0:2642175.0  1269125.0:2642200.0  \\\n",
      "bbq                48.260802            87.271111            43.784691   \n",
      "grocery            80.367347            59.749660           100.331973   \n",
      "pizza              58.708148            42.109444            40.672037   \n",
      "\n",
      "         1269125.0:2642225.0  1269125.0:2642250.0  1269125.0:2642275.0  \n",
      "bbq                58.490226            59.167438            51.895576  \n",
      "grocery            85.633409            88.897203            80.876795  \n",
      "pizza              45.996019            69.601852            51.789630  \n",
      "\n",
      "[3 rows x 25 columns]\n"
     ]
    }
   ],
   "source": [
    "rescore = mapster.score_yelp_map(dormap)\n",
    "print rescore"
   ]
  },
  {
   "cell_type": "code",
   "execution_count": 28,
   "metadata": {
    "collapsed": false
   },
   "outputs": [
    {
     "name": "stdout",
     "output_type": "stream",
     "text": [
      "Expanding map north\n"
     ]
    }
   ],
   "source": [
    "mapster.expand_north(dormap)"
   ]
  },
  {
   "cell_type": "code",
   "execution_count": 31,
   "metadata": {
    "collapsed": false
   },
   "outputs": [
    {
     "name": "stdout",
     "output_type": "stream",
     "text": [
      "['1269075.0:2642300.0', '1269050.0:2642300.0', '1269125.0:2642300.0', '1269100.0:2642300.0', '1269025.0:2642300.0']\n"
     ]
    }
   ],
   "source": [
    "mapkeys = dormap.keys()\n",
    "scorekeys = dorscore.keys()\n",
    "print [key for key in mapkeys if not key in scorekeys]"
   ]
  },
  {
   "cell_type": "code",
   "execution_count": 32,
   "metadata": {
    "collapsed": false
   },
   "outputs": [
    {
     "name": "stdout",
     "output_type": "stream",
     "text": [
      "         1269025.0:2642175.0  1269025.0:2642200.0  1269025.0:2642225.0  \\\n",
      "bbq                44.037823            32.102326            37.117609   \n",
      "grocery            71.484444            85.753772            83.463915   \n",
      "pizza              48.787942            53.046939            68.946759   \n",
      "\n",
      "         1269025.0:2642250.0  1269025.0:2642275.0  1269050.0:2642175.0  \\\n",
      "bbq                32.693542            21.618224            55.407891   \n",
      "grocery            77.996523            78.926138            93.441512   \n",
      "pizza              76.032222            71.799123            49.641888   \n",
      "\n",
      "         1269050.0:2642200.0  1269050.0:2642225.0  1269050.0:2642250.0  \\\n",
      "bbq                38.009621            44.748131            43.923370   \n",
      "grocery            89.986274            90.053333            92.287286   \n",
      "pizza              60.693426            66.989352            73.889630   \n",
      "\n",
      "         1269050.0:2642275.0         ...           1269100.0:2642175.0  \\\n",
      "bbq                26.703562         ...                     57.808133   \n",
      "grocery            86.844535         ...                     85.060952   \n",
      "pizza              73.601481         ...                     42.737130   \n",
      "\n",
      "         1269100.0:2642200.0  1269100.0:2642225.0  1269100.0:2642250.0  \\\n",
      "bbq                48.624033            61.864712            57.720422   \n",
      "grocery           111.306455           108.078246           111.073621   \n",
      "pizza              46.280926            56.159907            57.912500   \n",
      "\n",
      "         1269100.0:2642275.0  1269125.0:2642175.0  1269125.0:2642200.0  \\\n",
      "bbq                48.260802            87.271111            43.784691   \n",
      "grocery            80.367347            59.749660           100.331973   \n",
      "pizza              58.708148            42.109444            40.672037   \n",
      "\n",
      "         1269125.0:2642225.0  1269125.0:2642250.0  1269125.0:2642275.0  \n",
      "bbq                58.490226            59.167438            51.895576  \n",
      "grocery            85.633409            88.897203            80.876795  \n",
      "pizza              45.996019            69.601852            51.789630  \n",
      "\n",
      "[3 rows x 25 columns]\n"
     ]
    }
   ],
   "source": [
    "print rescore"
   ]
  },
  {
   "cell_type": "code",
   "execution_count": 59,
   "metadata": {
    "collapsed": false
   },
   "outputs": [
    {
     "name": "stdout",
     "output_type": "stream",
     "text": [
      "30\n",
      "       1269025.0:2642175.0  1269025.0:2642200.0  1269025.0:2642225.0  \\\n",
      "bbq                    NaN                  NaN                  NaN   \n",
      "pizza                  NaN                  NaN                  NaN   \n",
      "\n",
      "       1269025.0:2642250.0  1269025.0:2642275.0  1269050.0:2642175.0  \\\n",
      "bbq                    NaN                  NaN                  NaN   \n",
      "pizza                  NaN                  NaN                  NaN   \n",
      "\n",
      "       1269050.0:2642200.0  1269050.0:2642225.0  1269050.0:2642250.0  \\\n",
      "bbq                    NaN                  NaN                  NaN   \n",
      "pizza                  NaN                  NaN                  NaN   \n",
      "\n",
      "       1269050.0:2642275.0         ...           1269100.0:2642175.0  \\\n",
      "bbq                    NaN         ...                           NaN   \n",
      "pizza                  NaN         ...                           NaN   \n",
      "\n",
      "       1269100.0:2642200.0  1269100.0:2642225.0  1269100.0:2642250.0  \\\n",
      "bbq                    NaN                  NaN                  NaN   \n",
      "pizza                  NaN                  NaN                  NaN   \n",
      "\n",
      "       1269100.0:2642275.0  1269125.0:2642175.0  1269125.0:2642200.0  \\\n",
      "bbq                    NaN                  NaN                  NaN   \n",
      "pizza                  NaN                  NaN                  NaN   \n",
      "\n",
      "       1269125.0:2642225.0  1269125.0:2642250.0  1269125.0:2642275.0  \n",
      "bbq                    NaN                  NaN                  NaN  \n",
      "pizza                  NaN                  NaN                  NaN  \n",
      "\n",
      "[2 rows x 25 columns]\n"
     ]
    }
   ],
   "source": [
    "print len(dormap)\n",
    "print dorscore"
   ]
  },
  {
   "cell_type": "code",
   "execution_count": 54,
   "metadata": {
    "collapsed": false
   },
   "outputs": [
    {
     "name": "stdout",
     "output_type": "stream",
     "text": [
      "['grocery', 'bbq', 'pizza']\n"
     ]
    }
   ],
   "source": [
    "keys = dormap.keys()\n",
    "allsearches = [search for key in keys for search in dormap[key].keys()]\n",
    "print list(set(allsearches))"
   ]
  },
  {
   "cell_type": "code",
   "execution_count": 42,
   "metadata": {
    "collapsed": false
   },
   "outputs": [
    {
     "name": "stdout",
     "output_type": "stream",
     "text": [
      "['pizza' 'bbq' 'grocery']\n"
     ]
    }
   ],
   "source": [
    "print x.get_values()"
   ]
  },
  {
   "cell_type": "code",
   "execution_count": 60,
   "metadata": {
    "collapsed": false
   },
   "outputs": [
    {
     "name": "stdout",
     "output_type": "stream",
     "text": [
      "30\n",
      "25\n",
      "['1269075.0:2642300.0', '1269050.0:2642300.0', '1269125.0:2642300.0', '1269100.0:2642300.0', '1269025.0:2642300.0']\n",
      "['1269075.0:2642225.0', '1269025.0:2642200.0', '1269100.0:2642225.0', '1269050.0:2642225.0', '1269125.0:2642275.0', '1269025.0:2642175.0', '1269025.0:2642275.0', '1269075.0:2642200.0', '1269075.0:2642275.0', '1269125.0:2642200.0', '1269100.0:2642175.0', '1269050.0:2642250.0', '1269075.0:2642250.0', '1269125.0:2642175.0', '1269075.0:2642175.0', '1269050.0:2642200.0', '1269025.0:2642225.0', '1269125.0:2642225.0', '1269050.0:2642175.0', '1269050.0:2642275.0', '1269100.0:2642250.0', '1269100.0:2642200.0', '1269125.0:2642250.0', '1269100.0:2642275.0', '1269025.0:2642250.0']\n",
      "unscored keys: \n",
      "['1269075.0:2642300.0', '1269050.0:2642300.0', '1269125.0:2642300.0', '1269100.0:2642300.0', '1269025.0:2642300.0']\n",
      "unscored searches: \n",
      "[]\n",
      "unscored searches: \n",
      "[]\n",
      "unscored searches: \n",
      "[]\n",
      "unscored searches: \n",
      "[]\n",
      "unscored searches: \n",
      "[]\n",
      "unscored searches: \n",
      "[]\n",
      "unscored searches: \n",
      "[]\n",
      "unscored searches: \n",
      "[]\n",
      "unscored searches: \n",
      "[]\n",
      "unscored searches: \n",
      "[]\n",
      "unscored searches: \n",
      "[]\n",
      "unscored searches: \n",
      "[]\n",
      "unscored searches: \n",
      "[]\n",
      "unscored searches: \n",
      "[]\n",
      "unscored searches: \n",
      "[]\n",
      "unscored searches: \n",
      "[]\n",
      "unscored searches: \n",
      "[]\n",
      "unscored searches: \n",
      "[]\n",
      "unscored searches: \n",
      "[]\n",
      "unscored searches: \n",
      "[]\n",
      "unscored searches: \n",
      "[]\n",
      "unscored searches: \n",
      "[]\n",
      "unscored searches: \n",
      "[]\n",
      "unscored searches: \n",
      "[]\n",
      "unscored searches: \n",
      "[]\n"
     ]
    }
   ],
   "source": [
    "mapster.update_score(dormap,rescore)"
   ]
  },
  {
   "cell_type": "code",
   "execution_count": 61,
   "metadata": {
    "collapsed": false
   },
   "outputs": [
    {
     "name": "stdout",
     "output_type": "stream",
     "text": [
      "         1269025.0:2642175.0  1269025.0:2642200.0  1269025.0:2642225.0  \\\n",
      "bbq                44.037823            32.102326            37.117609   \n",
      "grocery            71.484444            85.753772            83.463915   \n",
      "pizza              48.787942            53.046939            68.946759   \n",
      "\n",
      "         1269025.0:2642250.0  1269025.0:2642275.0  1269050.0:2642175.0  \\\n",
      "bbq                32.693542            21.618224            55.407891   \n",
      "grocery            77.996523            78.926138            93.441512   \n",
      "pizza              76.032222            71.799123            49.641888   \n",
      "\n",
      "         1269050.0:2642200.0  1269050.0:2642225.0  1269050.0:2642250.0  \\\n",
      "bbq                38.009621            44.748131            43.923370   \n",
      "grocery            89.986274            90.053333            92.287286   \n",
      "pizza              60.693426            66.989352            73.889630   \n",
      "\n",
      "         1269050.0:2642275.0         ...           1269125.0:2642175.0  \\\n",
      "bbq                26.703562         ...                     87.271111   \n",
      "grocery            86.844535         ...                     59.749660   \n",
      "pizza              73.601481         ...                     42.109444   \n",
      "\n",
      "         1269125.0:2642200.0  1269125.0:2642225.0  1269125.0:2642250.0  \\\n",
      "bbq                43.784691            58.490226            59.167438   \n",
      "grocery           100.331973            85.633409            88.897203   \n",
      "pizza              40.672037            45.996019            69.601852   \n",
      "\n",
      "         1269125.0:2642275.0  1269075.0:2642300.0  1269050.0:2642300.0  \\\n",
      "bbq                51.895576            26.523274            21.156688   \n",
      "grocery            80.876795           145.769463           144.845994   \n",
      "pizza              51.789630            69.539683            82.347695   \n",
      "\n",
      "         1269125.0:2642300.0  1269100.0:2642300.0  1269025.0:2642300.0  \n",
      "bbq                44.378086            42.532922            15.665953  \n",
      "grocery           123.156001           139.915911            84.437158  \n",
      "pizza              69.518519            56.028723           105.227513  \n",
      "\n",
      "[3 rows x 30 columns]\n"
     ]
    }
   ],
   "source": [
    "print rescore"
   ]
  },
  {
   "cell_type": "code",
   "execution_count": 62,
   "metadata": {
    "collapsed": false
   },
   "outputs": [
    {
     "name": "stdout",
     "output_type": "stream",
     "text": [
      "       1269025.0:2642175.0  1269025.0:2642200.0  1269025.0:2642225.0  \\\n",
      "bbq              44.037823            32.102326            37.117609   \n",
      "pizza            48.787942            53.046939            68.946759   \n",
      "\n",
      "       1269025.0:2642250.0  1269025.0:2642275.0  1269050.0:2642175.0  \\\n",
      "bbq              32.693542            21.618224            55.407891   \n",
      "pizza            76.032222            71.799123            49.641888   \n",
      "\n",
      "       1269050.0:2642200.0  1269050.0:2642225.0  1269050.0:2642250.0  \\\n",
      "bbq              38.009621            44.748131             43.92337   \n",
      "pizza            60.693426            66.989352             73.88963   \n",
      "\n",
      "       1269050.0:2642275.0         ...           1269125.0:2642175.0  \\\n",
      "bbq              26.703562         ...                     87.271111   \n",
      "pizza            73.601481         ...                     42.109444   \n",
      "\n",
      "       1269125.0:2642200.0  1269125.0:2642225.0  1269125.0:2642250.0  \\\n",
      "bbq              43.784691            58.490226            59.167438   \n",
      "pizza            40.672037            45.996019            69.601852   \n",
      "\n",
      "       1269125.0:2642275.0  1269075.0:2642300.0  1269050.0:2642300.0  \\\n",
      "bbq              51.895576            26.523274            21.156688   \n",
      "pizza            51.789630            69.539683            82.347695   \n",
      "\n",
      "       1269125.0:2642300.0  1269100.0:2642300.0  1269025.0:2642300.0  \n",
      "bbq              44.378086            42.532922            15.665953  \n",
      "pizza            69.518519            56.028723           105.227513  \n",
      "\n",
      "[2 rows x 30 columns]\n"
     ]
    }
   ],
   "source": [
    "mapster.update_score(dormap,dorscore)\n",
    "print dorscore"
   ]
  },
  {
   "cell_type": "code",
   "execution_count": 63,
   "metadata": {
    "collapsed": false
   },
   "outputs": [
    {
     "name": "stdout",
     "output_type": "stream",
     "text": [
      "['grocery', 'bbq', 'pizza']\n",
      "Index([u'bbq', u'pizza', u'grocery'], dtype='object')\n",
      "[]\n",
      "['grocery', 'bbq', 'pizza']\n",
      "Index([u'bbq', u'pizza'], dtype='object')\n",
      "['grocery']\n",
      "['grocery', 'bbq', 'pizza']\n",
      "Index([u'bbq', u'pizza', u'grocery'], dtype='object')\n",
      "[]\n",
      "['grocery', 'bbq', 'pizza']\n",
      "Index([u'bbq', u'pizza', u'grocery'], dtype='object')\n",
      "[]\n",
      "['grocery', 'bbq', 'pizza']\n",
      "Index([u'bbq', u'pizza', u'grocery'], dtype='object')\n",
      "[]\n",
      "['grocery', 'bbq', 'pizza']\n",
      "Index([u'bbq', u'pizza', u'grocery'], dtype='object')\n",
      "[]\n",
      "['grocery', 'bbq', 'pizza']\n",
      "Index([u'bbq', u'pizza', u'grocery'], dtype='object')\n",
      "[]\n",
      "['grocery', 'bbq', 'pizza']\n",
      "Index([u'bbq', u'pizza'], dtype='object')\n",
      "['grocery']\n",
      "['grocery', 'bbq', 'pizza']\n",
      "Index([u'bbq', u'pizza', u'grocery'], dtype='object')\n",
      "[]\n",
      "['grocery', 'bbq', 'pizza']\n",
      "Index([u'bbq', u'pizza', u'grocery'], dtype='object')\n",
      "[]\n",
      "['grocery', 'bbq', 'pizza']\n",
      "Index([u'bbq', u'pizza', u'grocery'], dtype='object')\n",
      "[]\n",
      "['grocery', 'bbq', 'pizza']\n",
      "Index([u'bbq', u'pizza', u'grocery'], dtype='object')\n",
      "[]\n",
      "['grocery', 'bbq', 'pizza']\n",
      "Index([u'bbq', u'pizza', u'grocery'], dtype='object')\n",
      "[]\n",
      "['grocery', 'bbq', 'pizza']\n",
      "Index([u'bbq', u'pizza', u'grocery'], dtype='object')\n",
      "[]\n",
      "['grocery', 'bbq', 'pizza']\n",
      "Index([u'bbq', u'pizza'], dtype='object')\n",
      "['grocery']\n",
      "['grocery', 'bbq', 'pizza']\n",
      "Index([u'bbq', u'pizza', u'grocery'], dtype='object')\n",
      "[]\n",
      "['grocery', 'bbq', 'pizza']\n",
      "Index([u'bbq', u'pizza', u'grocery'], dtype='object')\n",
      "[]\n",
      "['grocery', 'bbq', 'pizza']\n",
      "Index([u'bbq', u'pizza', u'grocery'], dtype='object')\n",
      "[]\n",
      "['grocery', 'bbq', 'pizza']\n",
      "Index([u'bbq', u'pizza'], dtype='object')\n",
      "['grocery']\n",
      "['grocery', 'bbq', 'pizza']\n",
      "Index([u'bbq', u'pizza', u'grocery'], dtype='object')\n",
      "[]\n",
      "['grocery', 'bbq', 'pizza']\n",
      "Index([u'bbq', u'pizza', u'grocery'], dtype='object')\n",
      "[]\n",
      "['grocery', 'bbq', 'pizza']\n",
      "Index([u'bbq', u'pizza', u'grocery'], dtype='object')\n",
      "[]\n",
      "['grocery', 'bbq', 'pizza']\n",
      "Index([u'bbq', u'pizza', u'grocery'], dtype='object')\n",
      "[]\n",
      "['grocery', 'bbq', 'pizza']\n",
      "Index([u'bbq', u'pizza'], dtype='object')\n",
      "['grocery']\n",
      "['grocery', 'bbq', 'pizza']\n",
      "Index([u'bbq', u'pizza', u'grocery'], dtype='object')\n",
      "[]\n",
      "['grocery', 'bbq', 'pizza']\n",
      "Index([u'bbq', u'pizza', u'grocery'], dtype='object')\n",
      "[]\n",
      "['grocery', 'bbq', 'pizza']\n",
      "Index([u'bbq', u'pizza', u'grocery'], dtype='object')\n",
      "[]\n",
      "['grocery', 'bbq', 'pizza']\n",
      "Index([u'bbq', u'pizza', u'grocery'], dtype='object')\n",
      "[]\n",
      "['grocery', 'bbq', 'pizza']\n",
      "Index([u'bbq', u'pizza', u'grocery'], dtype='object')\n",
      "[]\n",
      "['grocery', 'bbq', 'pizza']\n",
      "Index([u'bbq', u'pizza', u'grocery'], dtype='object')\n",
      "[]\n",
      "       1269025.0:2642175.0  1269025.0:2642200.0  1269025.0:2642225.0  \\\n",
      "bbq              44.037823            32.102326            37.117609   \n",
      "pizza            48.787942            53.046939            68.946759   \n",
      "\n",
      "       1269025.0:2642250.0  1269025.0:2642275.0  1269050.0:2642175.0  \\\n",
      "bbq              32.693542            21.618224            55.407891   \n",
      "pizza            76.032222            71.799123            49.641888   \n",
      "\n",
      "       1269050.0:2642200.0  1269050.0:2642225.0  1269050.0:2642250.0  \\\n",
      "bbq              38.009621            44.748131             43.92337   \n",
      "pizza            60.693426            66.989352             73.88963   \n",
      "\n",
      "       1269050.0:2642275.0         ...           1269125.0:2642175.0  \\\n",
      "bbq              26.703562         ...                     87.271111   \n",
      "pizza            73.601481         ...                     42.109444   \n",
      "\n",
      "       1269125.0:2642200.0  1269125.0:2642225.0  1269125.0:2642250.0  \\\n",
      "bbq              43.784691            58.490226            59.167438   \n",
      "pizza            40.672037            45.996019            69.601852   \n",
      "\n",
      "       1269125.0:2642275.0  1269075.0:2642300.0  1269050.0:2642300.0  \\\n",
      "bbq              51.895576            26.523274            21.156688   \n",
      "pizza            51.789630            69.539683            82.347695   \n",
      "\n",
      "       1269125.0:2642300.0  1269100.0:2642300.0  1269025.0:2642300.0  \n",
      "bbq              44.378086            42.532922            15.665953  \n",
      "pizza            69.518519            56.028723           105.227513  \n",
      "\n",
      "[2 rows x 30 columns]\n"
     ]
    }
   ],
   "source": [
    "mapster.update_score(dormap,dorscore)\n",
    "print dorscore"
   ]
  },
  {
   "cell_type": "code",
   "execution_count": 68,
   "metadata": {
    "collapsed": false
   },
   "outputs": [
    {
     "name": "stdout",
     "output_type": "stream",
     "text": [
      "key: 1269025.0:2642175.0\n",
      "bbq        44.037823\n",
      "pizza      48.787942\n",
      "grocery    71.484444\n",
      "Name: 1269025.0:2642175.0, dtype: float64\n",
      "key: 1269025.0:2642200.0\n",
      "bbq        32.102326\n",
      "pizza      53.046939\n",
      "grocery    85.753772\n",
      "Name: 1269025.0:2642200.0, dtype: float64\n",
      "key: 1269025.0:2642225.0\n",
      "bbq        37.117609\n",
      "pizza      68.946759\n",
      "grocery    83.463915\n",
      "Name: 1269025.0:2642225.0, dtype: float64\n",
      "key: 1269025.0:2642250.0\n",
      "bbq        32.693542\n",
      "pizza      76.032222\n",
      "grocery    77.996523\n",
      "Name: 1269025.0:2642250.0, dtype: float64\n",
      "key: 1269025.0:2642275.0\n",
      "bbq        21.618224\n",
      "pizza      71.799123\n",
      "grocery    78.926138\n",
      "Name: 1269025.0:2642275.0, dtype: float64\n",
      "key: 1269050.0:2642175.0\n",
      "bbq        55.407891\n",
      "pizza      49.641888\n",
      "grocery    93.441512\n",
      "Name: 1269050.0:2642175.0, dtype: float64\n",
      "key: 1269050.0:2642200.0\n",
      "bbq        38.009621\n",
      "pizza      60.693426\n",
      "grocery    89.986274\n",
      "Name: 1269050.0:2642200.0, dtype: float64\n",
      "key: 1269050.0:2642225.0\n",
      "bbq        44.748131\n",
      "pizza      66.989352\n",
      "grocery    90.053333\n",
      "Name: 1269050.0:2642225.0, dtype: float64\n",
      "key: 1269050.0:2642250.0\n",
      "bbq        43.923370\n",
      "pizza      73.889630\n",
      "grocery    92.287286\n",
      "Name: 1269050.0:2642250.0, dtype: float64\n",
      "key: 1269050.0:2642275.0\n",
      "bbq        26.703562\n",
      "pizza      73.601481\n",
      "grocery    86.844535\n",
      "Name: 1269050.0:2642275.0, dtype: float64\n",
      "key: 1269075.0:2642175.0\n",
      "bbq         52.269116\n",
      "pizza       47.320000\n",
      "grocery    100.908420\n",
      "Name: 1269075.0:2642175.0, dtype: float64\n",
      "key: 1269075.0:2642200.0\n",
      "bbq         44.123887\n",
      "pizza       54.190093\n",
      "grocery    100.103915\n",
      "Name: 1269075.0:2642200.0, dtype: float64\n",
      "key: 1269075.0:2642225.0\n",
      "bbq        51.416488\n",
      "pizza      57.926667\n",
      "grocery    96.666515\n",
      "Name: 1269075.0:2642225.0, dtype: float64\n",
      "key: 1269075.0:2642250.0\n",
      "bbq         60.755401\n",
      "pizza       70.688056\n",
      "grocery    101.130612\n",
      "Name: 1269075.0:2642250.0, dtype: float64\n",
      "key: 1269075.0:2642275.0\n",
      "bbq        31.907644\n",
      "pizza      67.511111\n",
      "grocery    97.071534\n",
      "Name: 1269075.0:2642275.0, dtype: float64\n",
      "key: 1269100.0:2642175.0\n",
      "bbq        57.808133\n",
      "pizza      42.737130\n",
      "grocery    85.060952\n",
      "Name: 1269100.0:2642175.0, dtype: float64\n",
      "key: 1269100.0:2642200.0\n",
      "bbq         48.624033\n",
      "pizza       46.280926\n",
      "grocery    111.306455\n",
      "Name: 1269100.0:2642200.0, dtype: float64\n",
      "key: 1269100.0:2642225.0\n",
      "bbq         61.864712\n",
      "pizza       56.159907\n",
      "grocery    108.078246\n",
      "Name: 1269100.0:2642225.0, dtype: float64\n",
      "key: 1269100.0:2642250.0\n",
      "bbq         57.720422\n",
      "pizza       57.912500\n",
      "grocery    111.073621\n",
      "Name: 1269100.0:2642250.0, dtype: float64\n",
      "key: 1269100.0:2642275.0\n",
      "bbq        48.260802\n",
      "pizza      58.708148\n",
      "grocery    80.367347\n",
      "Name: 1269100.0:2642275.0, dtype: float64\n",
      "key: 1269125.0:2642175.0\n",
      "bbq        87.271111\n",
      "pizza      42.109444\n",
      "grocery    59.749660\n",
      "Name: 1269125.0:2642175.0, dtype: float64\n",
      "key: 1269125.0:2642200.0\n",
      "bbq         43.784691\n",
      "pizza       40.672037\n",
      "grocery    100.331973\n",
      "Name: 1269125.0:2642200.0, dtype: float64\n",
      "key: 1269125.0:2642225.0\n",
      "bbq        58.490226\n",
      "pizza      45.996019\n",
      "grocery    85.633409\n",
      "Name: 1269125.0:2642225.0, dtype: float64\n",
      "key: 1269125.0:2642250.0\n",
      "bbq        59.167438\n",
      "pizza      69.601852\n",
      "grocery    88.897203\n",
      "Name: 1269125.0:2642250.0, dtype: float64\n",
      "key: 1269125.0:2642275.0\n",
      "bbq        51.895576\n",
      "pizza      51.789630\n",
      "grocery    80.876795\n",
      "Name: 1269125.0:2642275.0, dtype: float64\n",
      "key: 1269075.0:2642300.0\n",
      "bbq         26.523274\n",
      "pizza       69.539683\n",
      "grocery    145.769463\n",
      "Name: 1269075.0:2642300.0, dtype: float64\n",
      "key: 1269050.0:2642300.0\n",
      "bbq         21.156688\n",
      "pizza       82.347695\n",
      "grocery    144.845994\n",
      "Name: 1269050.0:2642300.0, dtype: float64\n",
      "key: 1269125.0:2642300.0\n",
      "bbq         44.378086\n",
      "pizza       69.518519\n",
      "grocery    123.156001\n",
      "Name: 1269125.0:2642300.0, dtype: float64\n",
      "key: 1269100.0:2642300.0\n",
      "bbq         42.532922\n",
      "pizza       56.028723\n",
      "grocery    139.915911\n",
      "Name: 1269100.0:2642300.0, dtype: float64\n",
      "key: 1269025.0:2642300.0\n",
      "bbq         15.665953\n",
      "pizza      105.227513\n",
      "grocery     84.437158\n",
      "Name: 1269025.0:2642300.0, dtype: float64\n"
     ]
    }
   ],
   "source": [
    "keys = dorscore.keys()\n",
    "for key in keys:\n",
    "    print 'key: '+str(key)\n",
    "    print dorscore[key]"
   ]
  },
  {
   "cell_type": "code",
   "execution_count": 73,
   "metadata": {
    "collapsed": false
   },
   "outputs": [
    {
     "name": "stdout",
     "output_type": "stream",
     "text": [
      "<class 'pandas.core.frame.DataFrame'>\n",
      "<class 'pandas.core.frame.DataFrame'>\n"
     ]
    }
   ],
   "source": [
    "print type(rescore)\n",
    "print type(dorscore)"
   ]
  },
  {
   "cell_type": "code",
   "execution_count": 74,
   "metadata": {
    "collapsed": true
   },
   "outputs": [],
   "source": [
    "mapster.update_score(dormap,dorscore)"
   ]
  },
  {
   "cell_type": "code",
   "execution_count": 76,
   "metadata": {
    "collapsed": false
   },
   "outputs": [
    {
     "name": "stdout",
     "output_type": "stream",
     "text": [
      "         1269025.0:2642175.0  1269025.0:2642200.0  1269025.0:2642225.0  \\\n",
      "bbq                44.037823            32.102326            37.117609   \n",
      "grocery            71.484444            85.753772            83.463915   \n",
      "pizza              48.787942            53.046939            68.946759   \n",
      "\n",
      "         1269025.0:2642250.0  1269025.0:2642275.0  1269050.0:2642175.0  \\\n",
      "bbq                32.693542            21.618224            55.407891   \n",
      "grocery            77.996523            78.926138            93.441512   \n",
      "pizza              76.032222            71.799123            49.641888   \n",
      "\n",
      "         1269050.0:2642200.0  1269050.0:2642225.0  1269050.0:2642250.0  \\\n",
      "bbq                38.009621            44.748131            43.923370   \n",
      "grocery            89.986274            90.053333            92.287286   \n",
      "pizza              60.693426            66.989352            73.889630   \n",
      "\n",
      "         1269050.0:2642275.0         ...           1269125.0:2642175.0  \\\n",
      "bbq                26.703562         ...                     87.271111   \n",
      "grocery            86.844535         ...                     59.749660   \n",
      "pizza              73.601481         ...                     42.109444   \n",
      "\n",
      "         1269125.0:2642200.0  1269125.0:2642225.0  1269125.0:2642250.0  \\\n",
      "bbq                43.784691            58.490226            59.167438   \n",
      "grocery           100.331973            85.633409            88.897203   \n",
      "pizza              40.672037            45.996019            69.601852   \n",
      "\n",
      "         1269125.0:2642275.0  1269075.0:2642300.0  1269050.0:2642300.0  \\\n",
      "bbq                51.895576            26.523274            21.156688   \n",
      "grocery            80.876795           145.769463           144.845994   \n",
      "pizza              51.789630            69.539683            82.347695   \n",
      "\n",
      "         1269125.0:2642300.0  1269100.0:2642300.0  1269025.0:2642300.0  \n",
      "bbq                44.378086            42.532922            15.665953  \n",
      "grocery           123.156001           139.915911            84.437158  \n",
      "pizza              69.518519            56.028723           105.227513  \n",
      "\n",
      "[3 rows x 30 columns]\n"
     ]
    }
   ],
   "source": [
    "print rescore"
   ]
  },
  {
   "cell_type": "code",
   "execution_count": 77,
   "metadata": {
    "collapsed": false
   },
   "outputs": [
    {
     "name": "stdout",
     "output_type": "stream",
     "text": [
      "       1269025.0:2642175.0  1269025.0:2642200.0  1269025.0:2642225.0  \\\n",
      "bbq              44.037823            32.102326            37.117609   \n",
      "pizza            48.787942            53.046939            68.946759   \n",
      "\n",
      "       1269025.0:2642250.0  1269025.0:2642275.0  1269050.0:2642175.0  \\\n",
      "bbq              32.693542            21.618224            55.407891   \n",
      "pizza            76.032222            71.799123            49.641888   \n",
      "\n",
      "       1269050.0:2642200.0  1269050.0:2642225.0  1269050.0:2642250.0  \\\n",
      "bbq              38.009621            44.748131             43.92337   \n",
      "pizza            60.693426            66.989352             73.88963   \n",
      "\n",
      "       1269050.0:2642275.0         ...           1269125.0:2642175.0  \\\n",
      "bbq              26.703562         ...                     87.271111   \n",
      "pizza            73.601481         ...                     42.109444   \n",
      "\n",
      "       1269125.0:2642200.0  1269125.0:2642225.0  1269125.0:2642250.0  \\\n",
      "bbq              43.784691            58.490226            59.167438   \n",
      "pizza            40.672037            45.996019            69.601852   \n",
      "\n",
      "       1269125.0:2642275.0  1269075.0:2642300.0  1269050.0:2642300.0  \\\n",
      "bbq              51.895576            26.523274            21.156688   \n",
      "pizza            51.789630            69.539683            82.347695   \n",
      "\n",
      "       1269125.0:2642300.0  1269100.0:2642300.0  1269025.0:2642300.0  \n",
      "bbq              44.378086            42.532922            15.665953  \n",
      "pizza            69.518519            56.028723           105.227513  \n",
      "\n",
      "[2 rows x 30 columns]\n"
     ]
    }
   ],
   "source": [
    "print dorscore"
   ]
  },
  {
   "cell_type": "markdown",
   "metadata": {},
   "source": [
    "# problem\n",
    "\n",
    "So I think I fixed the update method but for some reason that I cannot seem to grasp, it won't print the grocery, but its there when you look at each individual entry for dorscore.\n",
    "\n",
    "I'm guessing there is some simple explanation having to do with DataFrames but I currently don't know what that is.\n",
    "\n",
    "REVISIT THIS LATER IF ITS PROBLEM!!"
   ]
  }
 ],
 "metadata": {
  "kernelspec": {
   "display_name": "Python 2",
   "language": "python",
   "name": "python2"
  },
  "language_info": {
   "codemirror_mode": {
    "name": "ipython",
    "version": 2
   },
   "file_extension": ".py",
   "mimetype": "text/x-python",
   "name": "python",
   "nbconvert_exporter": "python",
   "pygments_lexer": "ipython2",
   "version": "2.7.9"
  }
 },
 "nbformat": 4,
 "nbformat_minor": 0
}
